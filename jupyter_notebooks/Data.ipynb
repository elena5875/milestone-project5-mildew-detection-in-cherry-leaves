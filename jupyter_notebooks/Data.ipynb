{
 "cells": [
  {
   "cell_type": "code",
   "execution_count": null,
   "id": "12669454-fb7a-4e7e-b778-1bc25ea6a7f4",
   "metadata": {},
   "outputs": [],
   "source": [
    "#installing Kaggle\n",
    "!pip install kaggle\n"
   ]
  },
  {
   "cell_type": "code",
   "execution_count": null,
   "id": "0f63680e-dce9-4e99-9f3b-d7a584fdc990",
   "metadata": {},
   "outputs": [],
   "source": [
    "#downloading kaggle dataset for cherry leaves\n",
    "!kaggle datasets download -d codeinstitute/cherry-leaves\n"
   ]
  },
  {
   "cell_type": "code",
   "execution_count": null,
   "id": "45aa348f-d516-47ee-9b11-66eb2728f540",
   "metadata": {},
   "outputs": [],
   "source": [
    "#unzipping the file\n",
    "import zipfile\n",
    "\n",
    "with zipfile.ZipFile(\"cherry-leaves.zip\", \"r\") as zip_ref:\n",
    "    zip_ref.extractall(\"cherry-leaves\")\n"
   ]
  },
  {
   "cell_type": "code",
   "execution_count": null,
   "id": "f9b0c0ad-af97-4d5d-8964-2c3c90d3714c",
   "metadata": {},
   "outputs": [],
   "source": [
    "import os\n",
    "cwd = os.getcwd()\n",
    "print(\"Current working directory:\", cwd)\n"
   ]
  },
  {
   "cell_type": "code",
   "execution_count": null,
   "id": "63c69423-bc6d-4f93-a8b6-ae3c182a01eb",
   "metadata": {},
   "outputs": [],
   "source": [
    "#resizing the image file\n",
    "from PIL import Image\n",
    "import os\n",
    "\n",
    "# Define directory paths\n",
    "dataset_dirs = [\"./cherry-leaves/cherry-leaves-folder/healthy\", \"./cherry-leaves/cherry-leaves-folder/powdery_mildew\"]\n",
    "output_dir = \"./clean_data\"\n",
    "\n",
    "# Create output directory if it doesn't exist\n",
    "os.makedirs(output_dir, exist_ok=True)\n",
    "\n",
    "# Function to resize images and save them\n",
    "def resize_and_save_image(image_path, output_path, new_size=(50, 50)):\n",
    "    # Load image\n",
    "    image = Image.open(image_path)\n",
    "    \n",
    "    # Resize image\n",
    "    resized_image = image.resize(new_size)\n",
    "    \n",
    "    # Save resized image\n",
    "    resized_image.save(output_path)\n",
    "\n",
    "# Iterate through dataset directories\n",
    "for dataset_dir in dataset_dirs:\n",
    "    # Get category name from directory\n",
    "    category = os.path.basename(dataset_dir)\n",
    "    \n",
    "    # Output directory for the current category\n",
    "    output_category_dir = os.path.join(output_dir, category)\n",
    "    os.makedirs(output_category_dir, exist_ok=True)\n",
    "    \n",
    "    # Iterate through files in the dataset directory\n",
    "    for file in os.listdir(dataset_dir):\n",
    "        if file.lower().endswith((\".jpeg\", \".jpg\")):\n",
    "            # Input and output paths\n",
    "            input_path = os.path.join(dataset_dir, file)\n",
    "            output_path = os.path.join(output_category_dir, file)\n",
    "            \n",
    "            # Resize image and save\n",
    "            resize_and_save_image(input_path, output_path)\n"
   ]
  },
  {
   "cell_type": "code",
   "execution_count": null,
   "id": "4b9c9787-ae54-494f-a1f6-4abf716964d9",
   "metadata": {},
   "outputs": [],
   "source": [
    "pip install Pillow\n"
   ]
  },
  {
   "cell_type": "code",
   "execution_count": 5,
   "id": "f0654dc2-b072-45ba-a4bf-513cca77b4c0",
   "metadata": {},
   "outputs": [
    {
     "name": "stdout",
     "output_type": "stream",
     "text": [
      "Dataset split into training, validation, and test sets successfully!\n"
     ]
    }
   ],
   "source": [
    "#split dataset to training, validation and test sets\n",
    "import os\n",
    "import shutil\n",
    "import random\n",
    "\n",
    "# Define directories\n",
    "clean_data_dir_healthy = './clean_data/healthy/'\n",
    "clean_data_dir_mildew = './clean_data/powdery_mildew/'\n",
    "train_dir = './data_split/train/'\n",
    "val_dir = './data_split/validation/'\n",
    "test_dir = './data_split/test/'\n",
    "\n",
    "# Create directories if they don't exist\n",
    "os.makedirs(train_dir + 'healthy/', exist_ok=True)\n",
    "os.makedirs(train_dir + 'powdery_mildew/', exist_ok=True)\n",
    "os.makedirs(val_dir + 'healthy/', exist_ok=True)\n",
    "os.makedirs(val_dir + 'powdery_mildew/', exist_ok=True)\n",
    "os.makedirs(test_dir + 'healthy/', exist_ok=True)\n",
    "os.makedirs(test_dir + 'powdery_mildew/', exist_ok=True)\n",
    "\n",
    "# Function to split images into training, validation, and test sets\n",
    "def split_images(images, train_size, val_size, test_size):\n",
    "    random.shuffle(images)  # Shuffle the list randomly\n",
    "    train_images = images[:train_size]\n",
    "    val_images = images[train_size:train_size + val_size]\n",
    "    test_images = images[train_size + val_size:]\n",
    "    return train_images, val_images, test_images\n",
    "\n",
    "# List all the images in the clean_data directories\n",
    "all_images_healthy = os.listdir(clean_data_dir_healthy)\n",
    "all_images_mildew = os.listdir(clean_data_dir_mildew)\n",
    "\n",
    "# Calculate the size of each set\n",
    "total_size_healthy = len(all_images_healthy)\n",
    "total_size_mildew = len(all_images_mildew)\n",
    "total_size = min(total_size_healthy, total_size_mildew)\n",
    "\n",
    "train_size = total_size // 3  # 1/3 for training\n",
    "val_size = total_size // 3  # 1/3 for validation\n",
    "test_size = total_size - train_size - val_size  # Remaining for testing\n",
    "\n",
    "# Split images for healthy leaves\n",
    "train_images_healthy, val_images_healthy, test_images_healthy = split_images(all_images_healthy, train_size, val_size, test_size)\n",
    "\n",
    "# Split images for powdery mildew leaves\n",
    "train_images_mildew, val_images_mildew, test_images_mildew = split_images(all_images_mildew, train_size, val_size, test_size)\n",
    "\n",
    "# Move images to their respective directories\n",
    "for image in train_images_healthy:\n",
    "    shutil.move(os.path.join(clean_data_dir_healthy, image), os.path.join(train_dir + 'healthy/', image))\n",
    "\n",
    "for image in val_images_healthy:\n",
    "    shutil.move(os.path.join(clean_data_dir_healthy, image), os.path.join(val_dir + 'healthy/', image))\n",
    "\n",
    "for image in test_images_healthy:\n",
    "    shutil.move(os.path.join(clean_data_dir_healthy, image), os.path.join(test_dir + 'healthy/', image))\n",
    "\n",
    "for image in train_images_mildew:\n",
    "    shutil.move(os.path.join(clean_data_dir_mildew, image), os.path.join(train_dir + 'powdery_mildew/', image))\n",
    "\n",
    "for image in val_images_mildew:\n",
    "    shutil.move(os.path.join(clean_data_dir_mildew, image), os.path.join(val_dir + 'powdery_mildew/', image))\n",
    "\n",
    "for image in test_images_mildew:\n",
    "    shutil.move(os.path.join(clean_data_dir_mildew, image), os.path.join(test_dir + 'powdery_mildew/', image))\n",
    "\n",
    "print(\"Dataset split into training, validation, and test sets successfully!\")\n"
   ]
  },
  {
   "cell_type": "code",
   "execution_count": 7,
   "id": "32bfd60f-743d-4a6b-baa9-b9a2ab85fb9f",
   "metadata": {},
   "outputs": [
    {
     "name": "stdout",
     "output_type": "stream",
     "text": [
      "Collecting matplotlib\n",
      "  Downloading matplotlib-3.7.5-cp38-cp38-manylinux_2_12_x86_64.manylinux2010_x86_64.whl.metadata (5.7 kB)\n",
      "Collecting contourpy>=1.0.1 (from matplotlib)\n",
      "  Downloading contourpy-1.1.1-cp38-cp38-manylinux_2_17_x86_64.manylinux2014_x86_64.whl.metadata (5.9 kB)\n",
      "Collecting cycler>=0.10 (from matplotlib)\n",
      "  Downloading cycler-0.12.1-py3-none-any.whl.metadata (3.8 kB)\n",
      "Collecting fonttools>=4.22.0 (from matplotlib)\n",
      "  Downloading fonttools-4.51.0-cp38-cp38-manylinux_2_17_x86_64.manylinux2014_x86_64.whl.metadata (159 kB)\n",
      "\u001b[2K     \u001b[90m━━━━━━━━━━━━━━━━━━━━━━━━━━━━━━━━━━━━━━━\u001b[0m \u001b[32m159.5/159.5 kB\u001b[0m \u001b[31m9.8 MB/s\u001b[0m eta \u001b[36m0:00:00\u001b[0m\n",
      "\u001b[?25hCollecting kiwisolver>=1.0.1 (from matplotlib)\n",
      "  Downloading kiwisolver-1.4.5-cp38-cp38-manylinux_2_5_x86_64.manylinux1_x86_64.whl.metadata (6.4 kB)\n",
      "Requirement already satisfied: numpy<2,>=1.20 in /workspace/.pip-modules/lib/python3.8/site-packages (from matplotlib) (1.24.4)\n",
      "Requirement already satisfied: packaging>=20.0 in /home/gitpod/.pyenv/versions/3.8.18/lib/python3.8/site-packages (from matplotlib) (24.0)\n",
      "Requirement already satisfied: pillow>=6.2.0 in /workspace/.pip-modules/lib/python3.8/site-packages (from matplotlib) (10.3.0)\n",
      "Collecting pyparsing>=2.3.1 (from matplotlib)\n",
      "  Downloading pyparsing-3.1.2-py3-none-any.whl.metadata (5.1 kB)\n",
      "Requirement already satisfied: python-dateutil>=2.7 in /home/gitpod/.pyenv/versions/3.8.18/lib/python3.8/site-packages (from matplotlib) (2.9.0.post0)\n",
      "Requirement already satisfied: importlib-resources>=3.2.0 in /home/gitpod/.pyenv/versions/3.8.18/lib/python3.8/site-packages (from matplotlib) (6.4.0)\n",
      "Requirement already satisfied: zipp>=3.1.0 in /home/gitpod/.pyenv/versions/3.8.18/lib/python3.8/site-packages (from importlib-resources>=3.2.0->matplotlib) (3.18.1)\n",
      "Requirement already satisfied: six>=1.5 in /home/gitpod/.pyenv/versions/3.8.18/lib/python3.8/site-packages (from python-dateutil>=2.7->matplotlib) (1.16.0)\n",
      "Downloading matplotlib-3.7.5-cp38-cp38-manylinux_2_12_x86_64.manylinux2010_x86_64.whl (9.2 MB)\n",
      "\u001b[2K   \u001b[90m━━━━━━━━━━━━━━━━━━━━━━━━━━━━━━━━━━━━━━━━\u001b[0m \u001b[32m9.2/9.2 MB\u001b[0m \u001b[31m116.1 MB/s\u001b[0m eta \u001b[36m0:00:00\u001b[0m00:01\u001b[0m00:01\u001b[0m\n",
      "\u001b[?25hDownloading contourpy-1.1.1-cp38-cp38-manylinux_2_17_x86_64.manylinux2014_x86_64.whl (301 kB)\n",
      "\u001b[2K   \u001b[90m━━━━━━━━━━━━━━━━━━━━━━━━━━━━━━━━━━━━━━━━\u001b[0m \u001b[32m301.1/301.1 kB\u001b[0m \u001b[31m66.6 MB/s\u001b[0m eta \u001b[36m0:00:00\u001b[0m\n",
      "\u001b[?25hDownloading cycler-0.12.1-py3-none-any.whl (8.3 kB)\n",
      "Downloading fonttools-4.51.0-cp38-cp38-manylinux_2_17_x86_64.manylinux2014_x86_64.whl (4.7 MB)\n",
      "\u001b[2K   \u001b[90m━━━━━━━━━━━━━━━━━━━━━━━━━━━━━━━━━━━━━━━━\u001b[0m \u001b[32m4.7/4.7 MB\u001b[0m \u001b[31m127.7 MB/s\u001b[0m eta \u001b[36m0:00:00\u001b[0m00:01\u001b[0m\n",
      "\u001b[?25hDownloading kiwisolver-1.4.5-cp38-cp38-manylinux_2_5_x86_64.manylinux1_x86_64.whl (1.2 MB)\n",
      "\u001b[2K   \u001b[90m━━━━━━━━━━━━━━━━━━━━━━━━━━━━━━━━━━━━━━━━\u001b[0m \u001b[32m1.2/1.2 MB\u001b[0m \u001b[31m121.2 MB/s\u001b[0m eta \u001b[36m0:00:00\u001b[0m\n",
      "\u001b[?25hDownloading pyparsing-3.1.2-py3-none-any.whl (103 kB)\n",
      "\u001b[2K   \u001b[90m━━━━━━━━━━━━━━━━━━━━━━━━━━━━━━━━━━━━━━━━\u001b[0m \u001b[32m103.2/103.2 kB\u001b[0m \u001b[31m30.9 MB/s\u001b[0m eta \u001b[36m0:00:00\u001b[0m\n",
      "\u001b[?25hInstalling collected packages: pyparsing, kiwisolver, fonttools, cycler, contourpy, matplotlib\n",
      "Successfully installed contourpy-1.1.1 cycler-0.12.1 fonttools-4.51.0 kiwisolver-1.4.5 matplotlib-3.7.5 pyparsing-3.1.2\n",
      "Note: you may need to restart the kernel to use updated packages.\n"
     ]
    }
   ],
   "source": [
    "pip install matplotlib\n"
   ]
  },
  {
   "cell_type": "code",
   "execution_count": 3,
   "id": "7fc95a45-53b9-4062-a19c-2974a23ac1b2",
   "metadata": {},
   "outputs": [
    {
     "name": "stdout",
     "output_type": "stream",
     "text": [
      "Summary:\n",
      "Healthy Leaves - Mean: [137.85684679 143.78662425 120.87031897]  Standard Deviation: [51.66489044 34.80282996 51.93495327]\n",
      "Powdery Mildew Leaves - Mean: [115.86571355 122.8861204  103.11079315]  Standard Deviation: [36.25081573 33.6141598  41.73180473]\n"
     ]
    },
    {
     "data": {
      "image/png": "[encoded data removed]",
      "text/plain": [
       "<Figure size 640x480 with 1 Axes>"
      ]
     },
     "metadata": {},
     "output_type": "display_data"
    }
   ],
   "source": [
    "import os\n",
    "import numpy as np\n",
    "import matplotlib.pyplot as plt\n",
    "import cv2\n",
    "\n",
    "# Function to calculate mean and standard deviation of a set of images\n",
    "def calculate_stats(folder_path):\n",
    "    images = []\n",
    "    for filename in os.listdir(folder_path):\n",
    "        img = cv2.imread(os.path.join(folder_path, filename))\n",
    "        img = cv2.cvtColor(img, cv2.COLOR_BGR2RGB)  # Convert BGR to RGB\n",
    "        images.append(img)\n",
    "    images = np.array(images)\n",
    "    mean = np.mean(images, axis=(0, 1, 2))\n",
    "    std = np.std(images, axis=(0, 1, 2))\n",
    "    return mean, std\n",
    "\n",
    "# Paths to folders containing images\n",
    "healthy_folder = './data_split/train/healthy'\n",
    "mildew_folder = './data_split/train/powdery_mildew'\n",
    "\n",
    "# Calculate statistics for healthy leaves\n",
    "healthy_mean, healthy_std = calculate_stats(healthy_folder)\n",
    "\n",
    "# Calculate statistics for powdery mildew leaves\n",
    "mildew_mean, mildew_std = calculate_stats(mildew_folder)\n",
    "\n",
    "# Plotting\n",
    "labels = ['Red', 'Green', 'Blue']\n",
    "x = np.arange(len(labels))\n",
    "width = 0.35\n",
    "\n",
    "fig, ax = plt.subplots()\n",
    "rects1 = ax.bar(x - width/2, healthy_mean, width, label='Healthy', yerr=healthy_std, capsize=5)\n",
    "rects2 = ax.bar(x + width/2, mildew_mean, width, label='Powdery Mildew', yerr=mildew_std, capsize=5)\n",
    "\n",
    "ax.set_ylabel('Pixel Value')\n",
    "ax.set_title('Mean and Standard Deviation of Leaf Images')\n",
    "ax.set_xticks(x)\n",
    "ax.set_xticklabels(labels)\n",
    "ax.legend()\n",
    "\n",
    "# Print summary\n",
    "print(\"Summary:\")\n",
    "print(\"Healthy Leaves - Mean:\", healthy_mean, \" Standard Deviation:\", healthy_std)\n",
    "print(\"Powdery Mildew Leaves - Mean:\", mildew_mean, \" Standard Deviation:\", mildew_std)\n",
    "\n",
    "plt.show()\n"
   ]
  },
  {
   "cell_type": "code",
   "execution_count": 2,
   "id": "b3760b4e-2d3f-410a-8040-98befcc2582d",
   "metadata": {},
   "outputs": [
    {
     "name": "stdout",
     "output_type": "stream",
     "text": [
      "Collecting opencv-python\n",
      "  Downloading opencv_python-4.9.0.80-cp37-abi3-manylinux_2_17_x86_64.manylinux2014_x86_64.whl.metadata (20 kB)\n",
      "Requirement already satisfied: numpy>=1.17.0 in /workspace/.pip-modules/lib/python3.8/site-packages (from opencv-python) (1.24.4)\n",
      "Downloading opencv_python-4.9.0.80-cp37-abi3-manylinux_2_17_x86_64.manylinux2014_x86_64.whl (62.2 MB)\n",
      "\u001b[2K   \u001b[90m━━━━━━━━━━━━━━━━━━━━━━━━━━━━━━━━━━━━━━━━\u001b[0m \u001b[32m62.2/62.2 MB\u001b[0m \u001b[31m37.0 MB/s\u001b[0m eta \u001b[36m0:00:00\u001b[0m:00:01\u001b[0m00:01\u001b[0m\n",
      "\u001b[?25hInstalling collected packages: opencv-python\n",
      "Successfully installed opencv-python-4.9.0.80\n",
      "Note: you may need to restart the kernel to use updated packages.\n"
     ]
    }
   ],
   "source": [
    "pip install opencv-python\n"
   ]
  },
  {
   "cell_type": "code",
   "execution_count": null,
   "id": "dcbaa7ad-2370-4c82-b47e-f715d252abd9",
   "metadata": {},
   "outputs": [],
   "source": [
    "sudo apt-get install libgl1-mesa-glx\n"
   ]
  },
  {
   "cell_type": "code",
   "execution_count": null,
   "id": "ab1f0e05-8ae4-415c-a348-0d39c8b1fb11",
   "metadata": {},
   "outputs": [],
   "source": [
    "import os\n",
    "import cv2\n",
    "\n",
    "# Function to create an image montage\n",
    "def create_montage(images, titles, rows, cols):\n",
    "    montage = None\n",
    "    idx = 0\n",
    "    for i in range(rows):\n",
    "        row_images = []\n",
    "        for j in range(cols):\n",
    "            if idx < len(images):\n",
    "                img = cv2.resize(images[idx], (300, 300))  # Resize images for montage\n",
    "                cv2.putText(img, titles[idx], (10, 30), cv2.FONT_HERSHEY_SIMPLEX, 1, (255, 255, 255), 2)\n",
    "                row_images.append(img)\n",
    "                idx += 1\n",
    "            else:\n",
    "                # Add blank image if no more images to display\n",
    "                row_images.append(np.zeros((300, 300, 3), dtype=np.uint8))\n",
    "        row_montage = cv2.hconcat(row_images)\n",
    "        if montage is None:\n",
    "            montage = row_montage\n",
    "        else:\n",
    "            montage = cv2.vconcat([montage, row_montage])\n",
    "    return montage\n",
    "\n",
    "# Paths to folders containing images\n",
    "healthy_folder = './data_split/train/healthy'\n",
    "mildew_folder = './data_split/train/powdery_mildew'\n",
    "\n",
    "# Load images\n",
    "healthy_images = [cv2.imread(os.path.join(healthy_folder, filename)) for filename in os.listdir(healthy_folder)[:3]]\n",
    "mildew_images = [cv2.imread(os.path.join(mildew_folder, filename)) for filename in os.listdir(mildew_folder)[:3]]\n",
    "\n",
    "# Title for images\n",
    "healthy_titles = ['Healthy Leaf'] * len(healthy_images)\n",
    "mildew_titles = ['Powdery Mildew Leaf'] * len(mildew_images)\n",
    "\n",
    "# Create montage\n",
    "montage = create_montage(healthy_images + mildew_images, healthy_titles + mildew_titles, 2, 3)\n",
    "\n",
    "# Display montage\n",
    "cv2.imshow('Leaf Montage', montage)\n",
    "cv2.waitKey(0)\n",
    "cv2.destroyAllWindows()\n"
   ]
  },
  {
   "cell_type": "code",
   "execution_count": 1,
   "id": "15b90cce-f07f-4a69-9bcf-b9fccb89f58e",
   "metadata": {},
   "outputs": [
    {
     "name": "stdout",
     "output_type": "stream",
     "text": [
      "Healthy Leaves:\n",
      "Image 1: Powdery Mildew\n",
      "Image 2: Healthy\n",
      "Image 3: Powdery Mildew\n",
      "\n",
      "Powdery Mildew Leaves:\n",
      "Image 1: Healthy\n",
      "Image 2: Healthy\n",
      "Image 3: Healthy\n"
     ]
    }
   ],
   "source": [
    "import os\n",
    "import cv2\n",
    "\n",
    "# Function to classify leaves as healthy or powdery mildew\n",
    "def classify_leaf(image, mean_values, std_values):\n",
    "    # Calculate mean and standard deviation of the image\n",
    "    mean_image = cv2.mean(image)\n",
    "    std_image = cv2.meanStdDev(image)\n",
    "\n",
    "    # Compare mean and standard deviation with threshold values\n",
    "    is_healthy = True\n",
    "    for i in range(3):  # Iterate over RGB channels\n",
    "        if (mean_image[i] < mean_values[i] - std_values[i]) or \\\n",
    "           (mean_image[i] > mean_values[i] + std_values[i]):\n",
    "            is_healthy = False\n",
    "            break\n",
    "\n",
    "    return is_healthy\n",
    "\n",
    "# Paths to folders containing images\n",
    "healthy_folder = './data_split/train/healthy'\n",
    "mildew_folder = './data_split/train/powdery_mildew'\n",
    "\n",
    "# Load images\n",
    "healthy_images = [cv2.imread(os.path.join(healthy_folder, filename)) for filename in os.listdir(healthy_folder)[:3]]\n",
    "mildew_images = [cv2.imread(os.path.join(mildew_folder, filename)) for filename in os.listdir(mildew_folder)[:3]]\n",
    "\n",
    "# Title for images\n",
    "healthy_titles = ['Healthy Leaf'] * len(healthy_images)\n",
    "mildew_titles = ['Powdery Mildew Leaf'] * len(mildew_images)\n",
    "\n",
    "# Mean and standard deviation values as thresholds\n",
    "mean_values = [115.87, 122.89, 103.11]\n",
    "std_values = [36.25, 33.61, 41.73]\n",
    "\n",
    "# Classify images\n",
    "healthy_classified = [classify_leaf(image, mean_values, std_values) for image in healthy_images]\n",
    "mildew_classified = [classify_leaf(image, mean_values, std_values) for image in mildew_images]\n",
    "\n",
    "# Display classification results\n",
    "print(\"Healthy Leaves:\")\n",
    "for i, is_healthy in enumerate(healthy_classified):\n",
    "    print(f\"Image {i+1}: {'Healthy' if is_healthy else 'Powdery Mildew'}\")\n",
    "\n",
    "print(\"\\nPowdery Mildew Leaves:\")\n",
    "for i, is_healthy in enumerate(mildew_classified):\n",
    "    print(f\"Image {i+1}: {'Healthy' if is_healthy else 'Powdery Mildew'}\")\n"
   ]
  },
  {
   "cell_type": "code",
   "execution_count": null,
   "id": "0ad7282a-3e9e-40c3-92ae-aaab7047c13d",
   "metadata": {},
   "outputs": [],
   "source": []
  }
 ],
 "metadata": {
  "kernelspec": {
   "display_name": "Python 3 (ipykernel)",
   "language": "python",
   "name": "python3"
  },
  "language_info": {
   "codemirror_mode": {
    "name": "ipython",
    "version": 3
   },
   "file_extension": ".py",
   "mimetype": "text/x-python",
   "name": "python",
   "nbconvert_exporter": "python",
   "pygments_lexer": "ipython3",
   "version": "3.8.18"
  }
 },
 "nbformat": 4,
 "nbformat_minor": 5
}

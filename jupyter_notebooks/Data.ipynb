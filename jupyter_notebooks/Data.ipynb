{
 "cells": [
  {
   "cell_type": "code",
   "execution_count": 1,
   "id": "12669454-fb7a-4e7e-b778-1bc25ea6a7f4",
   "metadata": {},
   "outputs": [
    {
     "name": "stdout",
     "output_type": "stream",
     "text": [
      "Collecting kaggle\n",
      "  Downloading kaggle-1.6.12.tar.gz (79 kB)\n",
      "\u001b[2K     \u001b[90m━━━━━━━━━━━━━━━━━━━━━━━━━━━━━━━━━━━━━━━━\u001b[0m \u001b[32m79.7/79.7 kB\u001b[0m \u001b[31m5.4 MB/s\u001b[0m eta \u001b[36m0:00:00\u001b[0m\n",
      "\u001b[?25h  Preparing metadata (setup.py) ... \u001b[?25ldone\n",
      "\u001b[?25hRequirement already satisfied: six>=1.10 in /workspace/.pip-modules/lib/python3.8/site-packages (from kaggle) (1.15.0)\n",
      "Requirement already satisfied: certifi>=2023.7.22 in /home/gitpod/.pyenv/versions/3.8.18/lib/python3.8/site-packages (from kaggle) (2024.2.2)\n",
      "Requirement already satisfied: python-dateutil in /home/gitpod/.pyenv/versions/3.8.18/lib/python3.8/site-packages (from kaggle) (2.9.0.post0)\n",
      "Requirement already satisfied: requests in /home/gitpod/.pyenv/versions/3.8.18/lib/python3.8/site-packages (from kaggle) (2.31.0)\n",
      "Collecting tqdm (from kaggle)\n",
      "  Downloading tqdm-4.66.2-py3-none-any.whl.metadata (57 kB)\n",
      "\u001b[2K     \u001b[90m━━━━━━━━━━━━━━━━━━━━━━━━━━━━━━━━━━━━━━━━\u001b[0m \u001b[32m57.6/57.6 kB\u001b[0m \u001b[31m17.3 MB/s\u001b[0m eta \u001b[36m0:00:00\u001b[0m\n",
      "\u001b[?25hCollecting python-slugify (from kaggle)\n",
      "  Downloading python_slugify-8.0.4-py2.py3-none-any.whl.metadata (8.5 kB)\n",
      "Requirement already satisfied: urllib3 in /home/gitpod/.pyenv/versions/3.8.18/lib/python3.8/site-packages (from kaggle) (2.2.1)\n",
      "Requirement already satisfied: bleach in /home/gitpod/.pyenv/versions/3.8.18/lib/python3.8/site-packages (from kaggle) (6.1.0)\n",
      "Requirement already satisfied: webencodings in /home/gitpod/.pyenv/versions/3.8.18/lib/python3.8/site-packages (from bleach->kaggle) (0.5.1)\n",
      "Collecting text-unidecode>=1.3 (from python-slugify->kaggle)\n",
      "  Downloading text_unidecode-1.3-py2.py3-none-any.whl.metadata (2.4 kB)\n",
      "Requirement already satisfied: charset-normalizer<4,>=2 in /home/gitpod/.pyenv/versions/3.8.18/lib/python3.8/site-packages (from requests->kaggle) (3.3.2)\n",
      "Requirement already satisfied: idna<4,>=2.5 in /home/gitpod/.pyenv/versions/3.8.18/lib/python3.8/site-packages (from requests->kaggle) (3.7)\n",
      "Downloading python_slugify-8.0.4-py2.py3-none-any.whl (10 kB)\n",
      "Downloading tqdm-4.66.2-py3-none-any.whl (78 kB)\n",
      "\u001b[2K   \u001b[90m━━━━━━━━━━━━━━━━━━━━━━━━━━━━━━━━━━━━━━━━\u001b[0m \u001b[32m78.3/78.3 kB\u001b[0m \u001b[31m27.2 MB/s\u001b[0m eta \u001b[36m0:00:00\u001b[0m\n",
      "\u001b[?25hDownloading text_unidecode-1.3-py2.py3-none-any.whl (78 kB)\n",
      "\u001b[2K   \u001b[90m━━━━━━━━━━━━━━━━━━━━━━━━━━━━━━━━━━━━━━━━\u001b[0m \u001b[32m78.2/78.2 kB\u001b[0m \u001b[31m23.9 MB/s\u001b[0m eta \u001b[36m0:00:00\u001b[0m\n",
      "\u001b[?25hBuilding wheels for collected packages: kaggle\n",
      "  Building wheel for kaggle (setup.py) ... \u001b[?25ldone\n",
      "\u001b[?25h  Created wheel for kaggle: filename=kaggle-1.6.12-py3-none-any.whl size=102969 sha256=6433206665d3402478b66b29b49b446eea2f3a4647769682fd048b78e578a836\n",
      "  Stored in directory: /home/gitpod/.cache/pip/wheels/a0/87/83/f9893bb1660a03ca5808b7429e77808120f091569651323dd1\n",
      "Successfully built kaggle\n",
      "Installing collected packages: text-unidecode, tqdm, python-slugify, kaggle\n",
      "Successfully installed kaggle-1.6.12 python-slugify-8.0.4 text-unidecode-1.3 tqdm-4.66.2\n"
     ]
    }
   ],
   "source": [
    "#installing Kaggle\n",
    "!pip install kaggle\n"
   ]
  },
  {
   "cell_type": "code",
   "execution_count": 2,
   "id": "0f63680e-dce9-4e99-9f3b-d7a584fdc990",
   "metadata": {},
   "outputs": [
    {
     "name": "stdout",
     "output_type": "stream",
     "text": [
      "Dataset URL: https://www.kaggle.com/datasets/codeinstitute/cherry-leaves\n",
      "License(s): unknown\n",
      "Downloading cherry-leaves.zip to /workspace/milestone-project5-mildew-detection-in-cherry-leaves/jupyter_notebooks\n",
      " 91%|██████████████████████████████████▌   | 50.0M/55.0M [00:01<00:00, 46.3MB/s]\n",
      "100%|██████████████████████████████████████| 55.0M/55.0M [00:01<00:00, 39.1MB/s]\n"
     ]
    }
   ],
   "source": [
    "#downloading kaggle dataset for cherry leaves\n",
    "!kaggle datasets download -d codeinstitute/cherry-leaves\n"
   ]
  },
  {
   "cell_type": "code",
   "execution_count": 4,
   "id": "45aa348f-d516-47ee-9b11-66eb2728f540",
   "metadata": {},
   "outputs": [],
   "source": [
    "#unzipping the file\n",
    "import zipfile\n",
    "\n",
    "with zipfile.ZipFile(\"cherry-leaves.zip\", \"r\") as zip_ref:\n",
    "    zip_ref.extractall(\"cherry-leaves\")\n"
   ]
  },
  {
   "cell_type": "code",
   "execution_count": 18,
   "id": "f9b0c0ad-af97-4d5d-8964-2c3c90d3714c",
   "metadata": {},
   "outputs": [
    {
     "name": "stdout",
     "output_type": "stream",
     "text": [
      "Current working directory: /workspace/milestone-project5-mildew-detection-in-cherry-leaves/jupyter_notebooks\n"
     ]
    }
   ],
   "source": [
    "import os\n",
    "cwd = os.getcwd()\n",
    "print(\"Current working directory:\", cwd)\n"
   ]
  },
  {
   "cell_type": "code",
   "execution_count": 4,
   "id": "63c69423-bc6d-4f93-a8b6-ae3c182a01eb",
   "metadata": {},
   "outputs": [],
   "source": [
    "from PIL import Image\n",
    "import os\n",
    "\n",
    "# Define directory paths\n",
    "dataset_dirs = [\"./cherry-leaves/cherry-leaves-folder/healthy\", \"./cherry-leaves/cherry-leaves-folder/powdery_mildew\"]\n",
    "output_dir = \"./clean_data\"\n",
    "\n",
    "# Create output directory if it doesn't exist\n",
    "os.makedirs(output_dir, exist_ok=True)\n",
    "\n",
    "# Function to resize images and save them\n",
    "def resize_and_save_image(image_path, output_path, new_size=(50, 50)):\n",
    "    # Load image\n",
    "    image = Image.open(image_path)\n",
    "    \n",
    "    # Resize image\n",
    "    resized_image = image.resize(new_size)\n",
    "    \n",
    "    # Save resized image\n",
    "    resized_image.save(output_path)\n",
    "\n",
    "# Iterate through dataset directories\n",
    "for dataset_dir in dataset_dirs:\n",
    "    # Get category name from directory\n",
    "    category = os.path.basename(dataset_dir)\n",
    "    \n",
    "    # Output directory for the current category\n",
    "    output_category_dir = os.path.join(output_dir, category)\n",
    "    os.makedirs(output_category_dir, exist_ok=True)\n",
    "    \n",
    "    # Iterate through files in the dataset directory\n",
    "    for file in os.listdir(dataset_dir):\n",
    "        if file.lower().endswith((\".jpeg\", \".jpg\")):\n",
    "            # Input and output paths\n",
    "            input_path = os.path.join(dataset_dir, file)\n",
    "            output_path = os.path.join(output_category_dir, file)\n",
    "            \n",
    "            # Resize image and save\n",
    "            resize_and_save_image(input_path, output_path)\n"
   ]
  },
  {
   "cell_type": "code",
   "execution_count": 7,
   "id": "47e21385-930b-45d0-9d24-c2b93a9cc1a8",
   "metadata": {},
   "outputs": [
    {
     "ename": "TypeError",
     "evalue": "histogram() got an unexpected keyword argument 'source'",
     "output_type": "error",
     "traceback": [
      "\u001b[0;31m---------------------------------------------------------------------------\u001b[0m",
      "\u001b[0;31mTypeError\u001b[0m                                 Traceback (most recent call last)",
      "Cell \u001b[0;32mIn[7], line 41\u001b[0m\n\u001b[1;32m     38\u001b[0m image \u001b[38;5;241m=\u001b[39m Image\u001b[38;5;241m.\u001b[39mopen(os\u001b[38;5;241m.\u001b[39mpath\u001b[38;5;241m.\u001b[39mjoin(dataset_dir, file))\n\u001b[1;32m     40\u001b[0m \u001b[38;5;66;03m# Compute color histogram features\u001b[39;00m\n\u001b[0;32m---> 41\u001b[0m color_hist_features \u001b[38;5;241m=\u001b[39m \u001b[43mcompute_color_histogram\u001b[49m\u001b[43m(\u001b[49m\u001b[43mimage\u001b[49m\u001b[43m)\u001b[49m\n\u001b[1;32m     43\u001b[0m \u001b[38;5;66;03m# Determine if the leaf is healthy or powdery mildew based on color histogram\u001b[39;00m\n\u001b[1;32m     44\u001b[0m \u001b[38;5;66;03m# Example: Apply a simple threshold\u001b[39;00m\n\u001b[1;32m     45\u001b[0m \u001b[38;5;28;01mif\u001b[39;00m color_hist_features[\u001b[38;5;241m0\u001b[39m] \u001b[38;5;241m>\u001b[39m \u001b[38;5;241m0.5\u001b[39m:  \u001b[38;5;66;03m# Assuming the first feature represents hue histogram\u001b[39;00m\n",
      "Cell \u001b[0;32mIn[7], line 14\u001b[0m, in \u001b[0;36mcompute_color_histogram\u001b[0;34m(image)\u001b[0m\n\u001b[1;32m     11\u001b[0m hsv \u001b[38;5;241m=\u001b[39m image\u001b[38;5;241m.\u001b[39mconvert(\u001b[38;5;124m\"\u001b[39m\u001b[38;5;124mHSV\u001b[39m\u001b[38;5;124m\"\u001b[39m)\n\u001b[1;32m     13\u001b[0m \u001b[38;5;66;03m# Compute histograms for each channel\u001b[39;00m\n\u001b[0;32m---> 14\u001b[0m hist_hue \u001b[38;5;241m=\u001b[39m \u001b[43mhsv\u001b[49m\u001b[38;5;241;43m.\u001b[39;49m\u001b[43mhistogram\u001b[49m\u001b[43m(\u001b[49m\u001b[43mmask\u001b[49m\u001b[38;5;241;43m=\u001b[39;49m\u001b[38;5;28;43;01mNone\u001b[39;49;00m\u001b[43m,\u001b[49m\u001b[43m \u001b[49m\u001b[43mextrema\u001b[49m\u001b[38;5;241;43m=\u001b[39;49m\u001b[38;5;28;43;01mNone\u001b[39;49;00m\u001b[43m,\u001b[49m\u001b[43m \u001b[49m\u001b[43msource\u001b[49m\u001b[38;5;241;43m=\u001b[39;49m\u001b[38;5;241;43m0\u001b[39;49m\u001b[43m)\u001b[49m\n\u001b[1;32m     15\u001b[0m hist_saturation \u001b[38;5;241m=\u001b[39m hsv\u001b[38;5;241m.\u001b[39mhistogram(mask\u001b[38;5;241m=\u001b[39m\u001b[38;5;28;01mNone\u001b[39;00m, extrema\u001b[38;5;241m=\u001b[39m\u001b[38;5;28;01mNone\u001b[39;00m, source\u001b[38;5;241m=\u001b[39m\u001b[38;5;241m1\u001b[39m)\n\u001b[1;32m     16\u001b[0m hist_value \u001b[38;5;241m=\u001b[39m hsv\u001b[38;5;241m.\u001b[39mhistogram(mask\u001b[38;5;241m=\u001b[39m\u001b[38;5;28;01mNone\u001b[39;00m, extrema\u001b[38;5;241m=\u001b[39m\u001b[38;5;28;01mNone\u001b[39;00m, source\u001b[38;5;241m=\u001b[39m\u001b[38;5;241m2\u001b[39m)\n",
      "\u001b[0;31mTypeError\u001b[0m: histogram() got an unexpected keyword argument 'source'"
     ]
    }
   ],
   "source": [
    "from PIL import Image\n",
    "import os\n",
    "import numpy as np\n",
    "\n",
    "# Define directory paths\n",
    "dataset_dirs = [\"./cherry-leaves/cherry-leaves-folder/healthy\", \"./cherry-leaves/cherry-leaves-folder/powdery_mildew\"]\n",
    "\n",
    "# Function to compute color histogram features\n",
    "def compute_color_histogram(image):\n",
    "    # Convert image to HSV color space\n",
    "    hsv = image.convert(\"HSV\")\n",
    "    \n",
    "    # Compute histograms for each channel\n",
    "    hist_hue = hsv.histogram(mask=None, extrema=None)\n",
    "    hist_saturation = hsv.histogram(mask=None, extrema=None)\n",
    "    hist_value = hsv.histogram(mask=None, extrema=None)\n",
    "    \n",
    "    # Normalize histograms\n",
    "    hist_hue = np.array(hist_hue) / np.sum(hist_hue)\n",
    "    hist_saturation = np.array(hist_saturation) / np.sum(hist_saturation)\n",
    "    hist_value = np.array(hist_value) / np.sum(hist_value)\n",
    "    \n",
    "    # Concatenate histograms into a single feature vector\n",
    "    hist_features = np.concatenate((hist_hue, hist_saturation, hist_value))\n",
    "    \n",
    "    return hist_features\n",
    "\n",
    "\n",
    "# Iterate through dataset directories\n",
    "for dataset_dir in dataset_dirs:\n",
    "    category = os.path.basename(dataset_dir)\n",
    "    \n",
    "    # Iterate through files in the dataset directory\n",
    "    for file in os.listdir(dataset_dir):\n",
    "        if file.lower().endswith((\".jpeg\", \".jpg\")):\n",
    "            # Load image\n",
    "            image = Image.open(os.path.join(dataset_dir, file))\n",
    "            \n",
    "            # Compute color histogram features\n",
    "            color_hist_features = compute_color_histogram(image)\n",
    "            \n",
    "            # Determine if the leaf is healthy or powdery mildew based on color histogram\n",
    "            # Example: Apply a simple threshold\n",
    "            if color_hist_features[0] > 0.5:  # Assuming the first feature represents hue histogram\n",
    "                print(f\"Leaf {file} in category {category} is healthy\")\n",
    "            else:\n",
    "                print(f\"Leaf {file} in category {category} has powdery mildew\")\n",
    "# Define directory paths for processed data\n",
    "processed_data_dir = \"./processed_data\"\n",
    "healthy_data_dir = os.path.join(processed_data_dir, \"healthy\")\n",
    "mildew_data_dir = os.path.join(processed_data_dir, \"powdery_mildew\")\n",
    "\n",
    "# Create directories if they don't exist\n",
    "os.makedirs(healthy_data_dir, exist_ok=True)\n",
    "os.makedirs(mildew_data_dir, exist_ok=True)\n",
    "\n",
    "# Iterate through dataset directories\n",
    "for dataset_dir in dataset_dirs:\n",
    "    category = os.path.basename(dataset_dir)\n",
    "    \n",
    "    # Determine output directory based on category\n",
    "    output_category_dir = healthy_data_dir if category == \"healthy\" else mildew_data_dir\n",
    "    \n",
    "    # Iterate through files in the dataset directory\n",
    "    for file in os.listdir(dataset_dir):\n",
    "        if file.lower().endswith((\".jpeg\", \".jpg\")):\n",
    "            # Load image\n",
    "            image = Image.open(os.path.join(dataset_dir, file))\n",
    "            \n",
    "            # Compute color histogram features\n",
    "            color_hist_features = compute_color_histogram(image)\n",
    "            \n",
    "            # Save processed data (features and label) as numpy array\n",
    "            np.save(os.path.join(output_category_dir, file.replace(\".jpg\", \"\").replace(\".jpeg\", \"\") + \".npy\"), color_hist_features)"
   ]
  },
  {
   "cell_type": "code",
   "execution_count": null,
   "id": "4b9c9787-ae54-494f-a1f6-4abf716964d9",
   "metadata": {},
   "outputs": [],
   "source": []
  }
 ],
 "metadata": {
  "kernelspec": {
   "display_name": "Python 3 (ipykernel)",
   "language": "python",
   "name": "python3"
  },
  "language_info": {
   "codemirror_mode": {
    "name": "ipython",
    "version": 3
   },
   "file_extension": ".py",
   "mimetype": "text/x-python",
   "name": "python",
   "nbconvert_exporter": "python",
   "pygments_lexer": "ipython3",
   "version": "3.8.18"
  }
 },
 "nbformat": 4,
 "nbformat_minor": 5
}
